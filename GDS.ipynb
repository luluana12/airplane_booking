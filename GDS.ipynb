{
 "cells": [
  {
   "cell_type": "code",
   "execution_count": 19,
   "id": "e1b152b5-fd34-464d-b2d0-a01b86861473",
   "metadata": {},
   "outputs": [],
   "source": [
    "from amadeus import Client, ResponseError\n",
    "import requests\n",
    "import json\n",
    "import pandas as pd\n",
    "import folium\n",
    "from folium.plugins import MarkerCluster"
   ]
  },
  {
   "cell_type": "code",
   "execution_count": 44,
   "id": "a64a7f3c-916c-4f2e-821a-fe04c14b5d3a",
   "metadata": {},
   "outputs": [
    {
     "name": "stdout",
     "output_type": "stream",
     "text": [
      "Access Token: hnaGexax74G9gqlvZV58Y6LzmkrQ\n"
     ]
    }
   ],
   "source": [
    "# Your API credentials\n",
    "client_id = '2MDgHHj2hwOhMgLOY2KKfKsSwoqkLd6Z'\n",
    "client_secret = 'ZFxpu7xyjRmGUKCq'\n",
    "\n",
    "# Requesting the access token\n",
    "url = 'https://test.api.amadeus.com/v1/security/oauth2/token'\n",
    "headers = {\n",
    "    'Content-Type': 'application/x-www-form-urlencoded'\n",
    "}\n",
    "data = {\n",
    "    'grant_type': 'client_credentials',\n",
    "    'client_id': client_id,\n",
    "    'client_secret': client_secret\n",
    "}\n",
    "\n",
    "response = requests.post(url, headers=headers, data=data)\n",
    "\n",
    "if response.status_code == 200:\n",
    "    access_token = response.json().get('access_token')\n",
    "    print(\"Access Token:\", access_token)\n",
    "else:\n",
    "    print(\"Failed to get access token:\", response.text)\n"
   ]
  },
  {
   "cell_type": "code",
   "execution_count": 46,
   "id": "14538ce7-553a-420c-94c9-6ed7d74f2725",
   "metadata": {},
   "outputs": [
    {
     "name": "stdout",
     "output_type": "stream",
     "text": [
      "   id                                         name          city  \\\n",
      "0   1                               Goroka Airport        Goroka   \n",
      "1   2                               Madang Airport        Madang   \n",
      "2   3                 Mount Hagen Kagamuga Airport   Mount Hagen   \n",
      "3   4                               Nadzab Airport        Nadzab   \n",
      "4   5  Port Moresby Jacksons International Airport  Port Moresby   \n",
      "\n",
      "            country iata_code icao_code  latitude   longitude  altitude  \\\n",
      "0  Papua New Guinea       GKA      AYGA -6.081690  145.391998      5282   \n",
      "1  Papua New Guinea       MAG      AYMD -5.207080  145.789001        20   \n",
      "2  Papua New Guinea       HGU      AYMH -5.826790  144.296005      5388   \n",
      "3  Papua New Guinea       LAE      AYNZ -6.569803  146.725977       239   \n",
      "4  Papua New Guinea       POM      AYPY -9.443380  147.220001       146   \n",
      "\n",
      "  timezone_offset DST         timezone_name     type       source  \n",
      "0              10   U  Pacific/Port_Moresby  airport  OurAirports  \n",
      "1              10   U  Pacific/Port_Moresby  airport  OurAirports  \n",
      "2              10   U  Pacific/Port_Moresby  airport  OurAirports  \n",
      "3              10   U  Pacific/Port_Moresby  airport  OurAirports  \n",
      "4              10   U  Pacific/Port_Moresby  airport  OurAirports  \n"
     ]
    }
   ],
   "source": [
    "data_path = \"C:/Users/alexa/Python Projects/OfferFligthApp/airports.dat\"\n",
    "column_names = [\"id\", \"name\", \"city\", \"country\", \"iata_code\", \"icao_code\", \"latitude\",\n",
    "               \"longitude\", \"altitude\", \"timezone_offset\", \"DST\", \"timezone_name\", \"type\",\n",
    "               \"source\"]\n",
    "df = pd.read_csv(data_path, names = column_names,delimiter = ',')\n",
    "print(df.head(5))"
   ]
  },
  {
   "cell_type": "code",
   "execution_count": 47,
   "id": "c6da6b24-ea3f-40f8-bb7a-1524b849fc52",
   "metadata": {},
   "outputs": [
    {
     "name": "stdout",
     "output_type": "stream",
     "text": [
      "           city iata_code                                         name\n",
      "0        Goroka       GKA                               Goroka Airport\n",
      "1        Madang       MAG                               Madang Airport\n",
      "2   Mount Hagen       HGU                 Mount Hagen Kagamuga Airport\n",
      "3        Nadzab       LAE                               Nadzab Airport\n",
      "4  Port Moresby       POM  Port Moresby Jacksons International Airport\n"
     ]
    }
   ],
   "source": [
    "df_filtered = df[['city', 'iata_code', 'name']].dropna()\n",
    "print(df_filtered.head())"
   ]
  },
  {
   "cell_type": "code",
   "execution_count": 48,
   "id": "0f16d5fd-387d-4efe-8dee-2f29fffa2715",
   "metadata": {},
   "outputs": [
    {
     "name": "stdin",
     "output_type": "stream",
     "text": [
      "Enter the name of the city:  \n"
     ]
    },
    {
     "name": "stdout",
     "output_type": "stream",
     "text": [
      "The IATA code for  is: ['IATA code not found']\n"
     ]
    },
    {
     "name": "stdin",
     "output_type": "stream",
     "text": [
      "Enter the name of the airport:  \n"
     ]
    },
    {
     "name": "stdout",
     "output_type": "stream",
     "text": [
      "The IATA code for  is: ['IATA code not found']\n"
     ]
    }
   ],
   "source": [
    "def get_iata_codes_by_city(city_name):\n",
    "    codes = df_filtered[df_filtered['city'].str.lower() == city_name.lower()]['iata_code'].dropna().unique()\n",
    "    return codes if len(codes) > 0 else [\"IATA code not found\"]\n",
    "def get_iata_codes_by_name(airport_name):\n",
    "    codes = df_filtered[df_filtered['name'].str.lower() == airport_name.lower()]['iata_code'].dropna().unique()\n",
    "    return codes if len(codes) > 0 else [\"IATA code not found\"]\n",
    "    \n",
    "city_name = input(\"Enter the name of the city: \")\n",
    "iata_code = get_iata_codes_by_city(city_name)\n",
    "print(f\"The IATA code for {city_name} is: {iata_code}\")\n",
    "\n",
    "airport_name = input(\"Enter the name of the airport: \")\n",
    "iata_code = get_iata_codes_by_name(airport_name)\n",
    "print(f\"The IATA code for {airport_name} is: {iata_code}\")"
   ]
  },
  {
   "cell_type": "code",
   "execution_count": 24,
   "id": "da1c203a-d4ac-4433-bd4e-2aa06fc5ec36",
   "metadata": {},
   "outputs": [],
   "source": [
    "# Function to plot airports for a given city\n",
    "def plot_airports_for_city(city_name):\n",
    "    # Filter data for the specified city\n",
    "    city_airports = df[df['city'].str.lower() == city_name.lower()]\n",
    "\n",
    "    # Check if any airports were found\n",
    "    if city_airports.empty:\n",
    "        print(f\"No airports found for the city: {city_name}\")\n",
    "        return\n",
    "\n",
    "    # Create a Folium map centered around the first airport in the city\n",
    "    first_airport = city_airports.iloc[0]\n",
    "    city_map = folium.Map(location=[first_airport['latitude'], first_airport['longitude']], zoom_start=10)\n",
    "\n",
    "    # Add a marker cluster to group airport markers\n",
    "    marker_cluster = MarkerCluster().add_to(city_map)\n",
    "\n",
    "    # Add each airport in the city to the map\n",
    "    for _, airport in city_airports.iterrows():\n",
    "        folium.Marker(\n",
    "            location=[airport['latitude'], airport['longitude']],\n",
    "            popup=f\"{airport['name']} ({airport['iata_code']})\",\n",
    "            tooltip=airport['name']\n",
    "        ).add_to(marker_cluster)\n",
    "\n",
    "    # Display the map\n",
    "    return city_map"
   ]
  },
  {
   "cell_type": "code",
   "execution_count": 49,
   "id": "a2a10357-b579-4760-adfb-9d97b780c167",
   "metadata": {},
   "outputs": [],
   "source": [
    "iata_to_name = pd.Series(df_filtered.name.values, index=df_filtered.iata_code).to_dict()\n",
    "\n",
    "def get_airport_name_by_iata(iata_code):\n",
    "    return iata_to_name.get(iata_code.upper(), \"IATA code not found\")"
   ]
  },
  {
   "cell_type": "code",
   "execution_count": 60,
   "id": "32a706c6-d1c0-4ff1-a11d-a94abfe557cd",
   "metadata": {},
   "outputs": [
    {
     "name": "stdin",
     "output_type": "stream",
     "text": [
      "Select current city or airport-name:  city\n",
      "From what city do you wish to explore possible offers:  Mexico\n"
     ]
    },
    {
     "name": "stdout",
     "output_type": "stream",
     "text": [
      "['IATA code not found']\n"
     ]
    },
    {
     "name": "stdin",
     "output_type": "stream",
     "text": [
      "Do you wish to flight from IATA code not found: IATA code not found no\n",
      "What is the max amount for offer price (in dollars):  no\n"
     ]
    }
   ],
   "source": [
    "#In this section, we ask the user where is he located, then we fetch all the possible\n",
    "#iata codes from the city, and we call the API to display offer fligths that have of \n",
    "#origin such city. \n",
    "city_or_airport = input(\"Select current city or airport-name: \")\n",
    "if(city_or_airport == \"city\"): \n",
    "    city_name = input(\"From what city do you wish to explore possible offers: \")\n",
    "    iata_list =  get_iata_codes_by_city(city_name)\n",
    "    print(iata_list)\n",
    "    for iata in iata_list: \n",
    "        airport_name = get_airport_name_by_iata(iata)\n",
    "        choice = input(f\"Do you wish to flight from {iata}: {airport_name}\")\n",
    "        if(str.lower(choice) == \"yes\"): \n",
    "            origin_city = iata\n",
    "            break\n",
    "        else: \n",
    "            continue\n",
    "    max_price = input(\"What is the max amount for offer price (in dollars): \")\n",
    "else: \n",
    "    airport_name = input(\"What is the name of the airport: \")\n",
    "    iata_code = get_iata_codes_by_name(airport_name)\n",
    "    print(iata_code)\n",
    "    origin_city = iata_code\n",
    "    max_price = input(\"What is the max amount for offer price (in dollars): \")"
   ]
  },
  {
   "cell_type": "code",
   "execution_count": 58,
   "id": "0b99aa99-e8b3-44d5-9595-ba79edee2eba",
   "metadata": {
    "scrolled": true
   },
   "outputs": [
    {
     "name": "stdout",
     "output_type": "stream",
     "text": [
      "{\n",
      "    \"errors\": [\n",
      "        {\n",
      "            \"status\": 404,\n",
      "            \"code\": 6003,\n",
      "            \"title\": \"ITEM/DATA NOT FOUND OR DATA NOT EXISTING\",\n",
      "            \"detail\": \"No price result found\"\n",
      "        }\n",
      "    ]\n",
      "}\n"
     ]
    }
   ],
   "source": [
    "# Using the access token to call the Flight Inspiration Search API\n",
    "destination_url = 'https://test.api.amadeus.com/v1/shopping/flight-destinations'\n",
    "headers = {\n",
    "    'Authorization': f'Bearer {access_token}'\n",
    "}\n",
    "params = {\n",
    "    'origin': origin_city,  \n",
    "    #'destination': destination_city,\n",
    "    'maxPrice': max_price   \n",
    "}\n",
    "\n",
    "get_server_information = requests.get(destination_url, headers=headers, params=params)\n",
    "\n",
    "if response.status_code == 200:\n",
    "    #print(\"Available Destinations:\", response.json())\n",
    "    data = get_server_information.json()\n",
    "    pretty_data = json.dumps(data, indent = 4)\n",
    "    print(pretty_data)\n",
    "else:\n",
    "    print(\"Failed to retrieve destinations:\", response.text)"
   ]
  },
  {
   "cell_type": "code",
   "execution_count": 55,
   "id": "e8b872b1-57fe-49d0-90d6-d71a98d9ad1d",
   "metadata": {},
   "outputs": [
    {
     "name": "stdout",
     "output_type": "stream",
     "text": [
      "You can flight to LGA (airport name: La Guardia Airport).\n",
      "For the price of: 72.95. \n",
      "Departure date: 2024-12-18. \n",
      "Return date: 2024-12-31.\n",
      "------------------------------------------------------------------------\n"
     ]
    }
   ],
   "source": [
    "destinations = []\n",
    "prices = []\n",
    "departure_dates = []\n",
    "return_dates = []\n",
    "\n",
    "# Loop through each flight destination in the JSON response\n",
    "for flight in data[\"data\"]:\n",
    "    # Append each attribute to its corresponding list\n",
    "    destinations.append(flight[\"destination\"])\n",
    "    prices.append(float(flight[\"price\"][\"total\"]))  # Convert to float for easier manipulation if needed\n",
    "    departure_dates.append(flight[\"departureDate\"])\n",
    "    return_dates.append(flight[\"returnDate\"])\n",
    "i = 0\n",
    "for offer in destinations:\n",
    "    name = get_airport_name_by_iata(offer)\n",
    "    print(f\"You can flight to {offer} (airport name: {name}).\\nFor the price of: {prices[i]}. \\nDeparture date: {departure_dates[i]}. \\nReturn date: {return_dates[i]}.\")\n",
    "    print(\"------------------------------------------------------------------------\")\n",
    "    ++i"
   ]
  },
  {
   "cell_type": "code",
   "execution_count": null,
   "id": "890dade2-068b-4642-ba9c-1dd447ae321d",
   "metadata": {},
   "outputs": [],
   "source": [
    "# Input city name and display the map\n",
    "city_name = input(\"Enter the name of the city: \")\n",
    "city_map = plot_airports_for_city(city_name)\n",
    "if city_map:\n",
    "    city_map.save(\"airports_map.html\")  # Saves map to an HTML file\n",
    "    display(city_map)  # This will show the map if you are in a Jupyter Notebook"
   ]
  }
 ],
 "metadata": {
  "kernelspec": {
   "display_name": "Python 3 (ipykernel)",
   "language": "python",
   "name": "python3"
  },
  "language_info": {
   "codemirror_mode": {
    "name": "ipython",
    "version": 3
   },
   "file_extension": ".py",
   "mimetype": "text/x-python",
   "name": "python",
   "nbconvert_exporter": "python",
   "pygments_lexer": "ipython3",
   "version": "3.9.19"
  }
 },
 "nbformat": 4,
 "nbformat_minor": 5
}
